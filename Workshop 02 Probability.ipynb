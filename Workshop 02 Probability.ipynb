{
 "nbformat": 4,
 "nbformat_minor": 2,
 "metadata": {
  "language_info": {
   "name": "python",
   "codemirror_mode": {
    "name": "ipython",
    "version": 3
   },
   "version": "3.7.4-final"
  },
  "orig_nbformat": 2,
  "file_extension": ".py",
  "mimetype": "text/x-python",
  "name": "python",
  "npconvert_exporter": "python",
  "pygments_lexer": "ipython3",
  "version": 3,
  "kernelspec": {
   "name": "Python 3.7.4 64-bit ('base': conda)",
   "display_name": "Python 3.7.4 64-bit ('base': conda)",
   "metadata": {
    "interpreter": {
     "hash": "1f307c3022c27ca4762c821a3aebb95f65fea64f739e5b86e4575fdd25133081"
    }
   }
  }
 },
 "cells": [
  {
   "cell_type": "code",
   "execution_count": 1,
   "metadata": {},
   "outputs": [],
   "source": [
    "import numpy as np "
   ]
  },
  {
   "cell_type": "markdown",
   "metadata": {},
   "source": [
    "# Warmup: Count to 50\n",
    "\n",
    "Use a RNG to generate rolls of a 12-sided die. \n",
    "Write a function that counts the number of rolls taken until the total of the rolls totals 50 or more.\n",
    "\n",
    "```\n",
    "rollto50() -> 5\n",
    "rollto50() -> 6\n",
    "```"
   ]
  },
  {
   "cell_type": "code",
   "execution_count": 2,
   "metadata": {},
   "outputs": [
    {
     "output_type": "execute_result",
     "data": {
      "text/plain": [
       "12"
      ]
     },
     "metadata": {},
     "execution_count": 2
    }
   ],
   "source": [
    "def rollto50():\n",
    "\n",
    "    '''\n",
    "    Function that counts the number of rolls taken until the total of the rolls totals 50 or more.\n",
    "    '''\n",
    "    N=0 #Initial value of 0\n",
    "    it=0 # number of iteration\n",
    "\n",
    "    #This loop will run until N is < than 50\n",
    "    while N<50:\n",
    "\n",
    "        # The next line generates a random number\n",
    "        # between 1 ( included) and 13 (excluded)\n",
    "        x=np.random.randint(1,13) \n",
    "\n",
    "        N+=x  #adding x to the total of the roll \n",
    "        it+=1 #+1 to the number of rolls\n",
    "\n",
    "    return it\n",
    "rollto50()\n"
   ]
  },
  {
   "cell_type": "code",
   "execution_count": 88,
   "metadata": {},
   "outputs": [
    {
     "output_type": "stream",
     "name": "stdout",
     "text": [
      "10\n"
     ]
    }
   ],
   "source": []
  },
  {
   "cell_type": "markdown",
   "metadata": {},
   "source": [
    "# Problem 1: Monte Carlo Sampling\n",
    "\n",
    "Data Scientists are often lazy. Instead of calculating the exact probability of complex events, we simulate samples with a RNG and average the results. This is called **Monte Carlo Sampling** after the casino in Monaco (yes, really).\n",
    "\n",
    "Write a function `monte_carlo_dice(n)` that given a 6-sided die, rolls it $n$ times and averages the result.\n",
    "\n",
    "The result should get closer to the true expected value (3.5) as $n$ increases:\n",
    "\n",
    "```\n",
    "n: 100 Trial average 3.39 \n",
    "n: 1000 Trial average 3.576 \n",
    "n: 10000 Trial average 3.5054 \n",
    "n: 100000 Trial average 3.50201 \n",
    "n: 500000 Trial average 3.495568\n",
    "```"
   ]
  },
  {
   "cell_type": "code",
   "execution_count": 3,
   "metadata": {},
   "outputs": [
    {
     "output_type": "stream",
     "name": "stdout",
     "text": [
      "n: 10000 Trial average 3.4983\n"
     ]
    },
    {
     "output_type": "execute_result",
     "data": {
      "text/plain": [
       "3.4983"
      ]
     },
     "metadata": {},
     "execution_count": 3
    }
   ],
   "source": [
    "def monte_carlo_dice(n):\n",
    "    '''\n",
    "    function monte_carlo_dice(n) that given a 6-sided die, rolls it  n\n",
    "    times and averages the result.\n",
    "    '''\n",
    "    # Generates an array of n random integers \n",
    "    #from 1 to 7 because the 1 is inclusive and the 7 is not\n",
    "    x=np.random.randint(1,7,n) \n",
    "\n",
    "    # This next line does the average of the array.\n",
    "    average=np.mean(x)\n",
    "    \n",
    "    print(F'n: {n} Trial average {average}')\n",
    "    return average\n",
    "n=10000\n",
    "monte_carlo_dice(n)"
   ]
  },
  {
   "cell_type": "markdown",
   "metadata": {},
   "source": [
    "# 2: Estimating the Area of a Circle\n",
    "\n",
    "Consider a dartboard with a circle of radius $r$ inscribed in a square with side $2r$. Now let’s say you start throwing a large number of darts at it. \n",
    "\n",
    "Some of these will hit the board within the circle—let’s say, $N$—and others out-side it—let’s say, $M$. If we consider the fraction of darts that land inside the circle:\n",
    "\n",
    "$$f = \\dfrac{N}{N + M}$$\n",
    "\n",
    "Then the value of $f * A$ with $A$ being the area of the square will approximate the actual area of the circle (which is  $\\pi 2 r$)\n",
    "\n",
    "<img src=\"Circle Target.png\" style=\"width: 200px;\">\n",
    "\n",
    "Write a function `circle_estimate(radius, trials)` which will estimate the area of a circle by throwing `trials` random darts at the square.\n",
    "\n",
    "\n",
    "\n",
    "```\n",
    "Radius: 2\n",
    "Area: 12.566370614359172, Estimated (1000 darts): 12.576\n",
    "Area: 12.566370614359172, Estimated (100000 darts): 12.58176\n",
    "Area: 12.566370614359172, Estimated (1000000 darts): 12.560128\n",
    "```\n",
    "\n",
    "**Hint:** Generate 2 random numbers for each dart throw, one for the `x` axis and one for the `y` axis. Use the [Pythagorean Theorem](https://en.wikipedia.org/wiki/Pythagorean_theorem) find if it's outside the circle"
   ]
  },
  {
   "cell_type": "code",
   "execution_count": 4,
   "metadata": {},
   "outputs": [
    {
     "output_type": "stream",
     "name": "stdout",
     "text": [
      "Radius:2\nArea:12.566370614359172, Estimated (100000 darts): 12.55264\n"
     ]
    },
    {
     "output_type": "execute_result",
     "data": {
      "text/plain": [
       "12.55264"
      ]
     },
     "metadata": {},
     "execution_count": 4
    }
   ],
   "source": [
    "import numpy as np\n",
    "import matplotlib.pyplot as plt\n",
    "\n",
    "def circle_estimate(radius, trials):\n",
    "\n",
    "\n",
    "    #these next 2 lines generates a random value between 0 and 1.\n",
    "    #Since we want to generate a number between -R and +R we want \n",
    "    #to generate a value between -1 and s +1 and multiply it by R\n",
    "    #(0-1=-1) and (2-1=1)\n",
    "    xp=((np.random.random(trials))*2-1)*radius\n",
    "    yp=((np.random.random(trials))*2-1)*radius\n",
    "\n",
    "    # Pythagorean Theorem \n",
    "    r=np.sqrt(xp**2+yp**2)\n",
    "\n",
    "    #indices where r<=radius (inside)\n",
    "    Nind=np.where(r<=radius)\n",
    "\n",
    "    #Value of N\n",
    "    N=np.size(Nind) \n",
    "\n",
    "    #indices where r>radius (ouside)\n",
    "    Mind=np.where(r>radius)\n",
    "\n",
    "    #Value of M\n",
    "    M=np.size(Mind)\n",
    "\n",
    "    #fraction of darts that land inside the circle\n",
    "    f=N/(N+M)\n",
    "\n",
    "    #area of the square\n",
    "    A=f*(2*radius)**2 \n",
    "\n",
    "    #The real value of the Area of a Circle\n",
    "    Areal=np.pi*radius**2\n",
    "\n",
    "    \n",
    "    print(F'Radius:{radius}')\n",
    "    print(F'Area:{Areal}, Estimated ({trials} darts): {A}')\n",
    "    return A\n",
    "\n",
    "radius=2\n",
    "trials=100000\n",
    "circle_estimate(radius, trials)"
   ]
  },
  {
   "source": [
    "# Bonus ( something I did for fun :) )  Estimating the volume of a n-dimensional sphere\n",
    "\n",
    "\n",
    "The volume of a n-dimenssional sphere is given by: \n",
    "\n",
    "$$\n",
    "V_{n}(R)=\\frac{\\pi^{\\frac{n}{2}}}{\\Gamma\\left(\\frac{n}{2}+1\\right)} R^{n}\n",
    "$$\n",
    "\n",
    "Where n is the dimension of the hypersphere, R the radius and $\\Gamma$ the gamma fonction.  \n",
    "\n",
    "I will use the real value of the volume to compare it to the volume I will estimate with the Monte Carlo method \n",
    "\n",
    "Source for the formula of the volume : https://en.wikipedia.org/wiki/Volume_of_an_n-ball\n",
    "\n"
   ],
   "cell_type": "markdown",
   "metadata": {}
  },
  {
   "cell_type": "code",
   "execution_count": 5,
   "metadata": {},
   "outputs": [
    {
     "output_type": "stream",
     "name": "stdout",
     "text": [
      " 4-dimensional volume of a Euclidean ball of radius R=1 is V=4.94704 (monte carlo)\n The real value of a 4-dimensional volume of a Euclidean ball is Vn=4.934802200544679\n %E= 0.24798966519814272%\n"
     ]
    }
   ],
   "source": [
    "import math\n",
    "\n",
    "def Volume_n_ball(n,R):\n",
    "    '''\n",
    "    the Volume of a n-dimensional sphere of radius \n",
    "\n",
    "    '''\n",
    "\n",
    "    #The gamma fonction is in the math library.\n",
    "    Vn=np.pi**(n/2)/math.gamma(n/2+1)*R**n  #Equation of the Volume\n",
    "    return(Vn)  \n",
    "def nBallVol(n,n_points,R):\n",
    "\n",
    "    dicts={}\n",
    "    dicts2={}\n",
    "    dicts3={}\n",
    "    M=0 \n",
    "    N=0\n",
    "    for i in range(n_points):\n",
    "        #Generating n_point vectors in R^n\n",
    "        dicts[i]=((np.random.random(n))*2-1)*R\n",
    "\n",
    "\n",
    "        dicts2[i]=dicts[i]**2\n",
    "        \n",
    "        #getting the distance from the center  for all elements of the Dict\n",
    "        dicts3[i]=np.sqrt(np.sum(dicts2[i])) #Pythagorean Theorem in R^n\n",
    "\n",
    "\n",
    "        if dicts3[i]<R:\n",
    "            N+=1\n",
    "        else:\n",
    "            M+=1\n",
    "    f=N/(N+M)\n",
    "\n",
    "    #Volume of the hypercube\n",
    "    Vol=(2*R)**n\n",
    "\n",
    "    #Estimated Volume of the n-sphere\n",
    "    Vol_sphere=f*Vol \n",
    "\n",
    "    #real volume \n",
    "    RealVol=Volume_n_ball(n,R)\n",
    "\n",
    "    # %Error\n",
    "    Porcentage_Error=abs(Vol_sphere-RealVol)/RealVol*100\n",
    "\n",
    "    print(F\" {n}-dimensional volume of a Euclidean ball of radius R={R} is V={Vol_sphere} (monte carlo)\")\n",
    "    print(F\" The real value of a {n}-dimensional volume of a Euclidean ball is Vn={RealVol}\")\n",
    "    print(F\" %E= {Porcentage_Error}%\")\n",
    "\n",
    "    return Vol_sphere,RealVol,Porcentage_Error\n",
    "\n",
    "R=1\n",
    "n=4 #dim \n",
    "n_points=100000\n",
    "a,b,c=nBallVol(n,n_points,R)\n"
   ]
  },
  {
   "cell_type": "markdown",
   "metadata": {},
   "source": [
    "# 3: Binomial distribution\n",
    "\n",
    "The [binomial random variable](https://en.wikipedia.org/wiki/Binomial_distribution) $ Y \\sim Bin(n, p) $ represents the number of successes in $ n $ coin flips, where each trial succeeds with probability $ p $.\n",
    "\n",
    "Without any import besides `from numpy.random import uniform`, write a function\n",
    "`binomial_rv` such that `binomial_rv(n, p)` generates one draw of $ Y $.\n",
    "\n",
    "Hint: If $ U $ is uniform on $ (0, 1) $ and $ p \\in (0,1) $, then the expression `U < p` evaluates to `True` with probability $ p $."
   ]
  },
  {
   "cell_type": "code",
   "execution_count": 6,
   "metadata": {},
   "outputs": [
    {
     "output_type": "stream",
     "name": "stdout",
     "text": [
      "24\n"
     ]
    }
   ],
   "source": [
    "\n",
    "\n",
    "def binomial_rv(n,p):\n",
    "    count=0\n",
    "    for i in range(n):\n",
    "        U=np.random.uniform(0,1)  #generates a value between 0 and 1\n",
    "        if U<p:\n",
    "            count+=1 # adds +1 when U<P (successfull trial)\n",
    "    return count\n",
    "\n",
    "    \n",
    "print(binomial_rv(100,0.2))\n",
    "\n"
   ]
  }
 ]
}